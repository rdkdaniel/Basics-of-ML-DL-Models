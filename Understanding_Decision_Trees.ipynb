{
  "nbformat": 4,
  "nbformat_minor": 0,
  "metadata": {
    "colab": {
      "name": "Understanding Decision Trees",
      "provenance": [],
      "authorship_tag": "ABX9TyP85s1eJHAI2F/zOvttPdGY",
      "include_colab_link": true
    },
    "kernelspec": {
      "name": "python3",
      "display_name": "Python 3"
    },
    "language_info": {
      "name": "python"
    }
  },
  "cells": [
    {
      "cell_type": "markdown",
      "metadata": {
        "id": "view-in-github",
        "colab_type": "text"
      },
      "source": [
        "<a href=\"https://colab.research.google.com/github/rdkdaniel/Basics-of-ML-DL-Models/blob/main/Understanding_Decision_Trees.ipynb\" target=\"_parent\"><img src=\"https://colab.research.google.com/assets/colab-badge.svg\" alt=\"Open In Colab\"/></a>"
      ]
    },
    {
      "cell_type": "code",
      "execution_count": null,
      "metadata": {
        "id": "P48AgeIf2PQ8"
      },
      "outputs": [],
      "source": [
        "#Great read:https://towardsdatascience.com/understanding-decision-trees-for-classification-python-9663d683c952\n",
        "\n",
        "#Decision trees are good for classification and regression\n",
        "#The former is understood, right?\n",
        "#The latter, when you deal with a relationship between a dependent variable and independent variables (e.g. y=mx+c)\n",
        "\n",
        "\n",
        "#A great insight on hyperparameter \"max_depth\" and \"depth\"\n"
      ]
    }
  ]
}