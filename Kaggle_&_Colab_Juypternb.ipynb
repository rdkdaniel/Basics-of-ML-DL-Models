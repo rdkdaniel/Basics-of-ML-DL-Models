{
  "nbformat": 4,
  "nbformat_minor": 0,
  "metadata": {
    "colab": {
      "provenance": [],
      "authorship_tag": "ABX9TyMdPdG0LbeYg1mseDbgT6kK",
      "include_colab_link": true
    },
    "kernelspec": {
      "name": "python3",
      "display_name": "Python 3"
    },
    "language_info": {
      "name": "python"
    }
  },
  "cells": [
    {
      "cell_type": "markdown",
      "metadata": {
        "id": "view-in-github",
        "colab_type": "text"
      },
      "source": [
        "<a href=\"https://colab.research.google.com/github/rdkdaniel/Basics-of-ML-DL-Models/blob/main/Kaggle_%26_Colab_Juypternb.ipynb\" target=\"_parent\"><img src=\"https://colab.research.google.com/assets/colab-badge.svg\" alt=\"Open In Colab\"/></a>"
      ]
    },
    {
      "cell_type": "markdown",
      "source": [
        "# **Loading Kaggle Datasets Directly into Google Colab**"
      ],
      "metadata": {
        "id": "fSDaNkxrkGHC"
      }
    },
    {
      "cell_type": "markdown",
      "source": [
        "Key link: https://www.analyticsvidhya.com/blog/2021/06/how-to-load-kaggle-datasets-directly-into-google-colab/"
      ],
      "metadata": {
        "id": "9PeKhDT-kCxx"
      }
    },
    {
      "cell_type": "code",
      "execution_count": null,
      "metadata": {
        "id": "ZymfJG16j9_j"
      },
      "outputs": [],
      "source": []
    }
  ]
}