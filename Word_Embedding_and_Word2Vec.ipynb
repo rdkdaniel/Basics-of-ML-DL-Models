{
  "nbformat": 4,
  "nbformat_minor": 0,
  "metadata": {
    "colab": {
      "name": "Word Embedding and Word2Vec",
      "provenance": [],
      "authorship_tag": "ABX9TyOk9QutcWiGJnZa7HDU7HVt",
      "include_colab_link": true
    },
    "kernelspec": {
      "name": "python3",
      "display_name": "Python 3"
    },
    "language_info": {
      "name": "python"
    }
  },
  "cells": [
    {
      "cell_type": "markdown",
      "metadata": {
        "id": "view-in-github",
        "colab_type": "text"
      },
      "source": [
        "<a href=\"https://colab.research.google.com/github/rdkdaniel/Basics-of-ML-DL-Models/blob/main/Word_Embedding_and_Word2Vec.ipynb\" target=\"_parent\"><img src=\"https://colab.research.google.com/assets/colab-badge.svg\" alt=\"Open In Colab\"/></a>"
      ]
    },
    {
      "cell_type": "code",
      "execution_count": null,
      "metadata": {
        "id": "hUeWnA59Iu91"
      },
      "outputs": [],
      "source": [
        ""
      ]
    },
    {
      "cell_type": "markdown",
      "source": [
        "Key link: https://towardsdatascience.com/introduction-to-word-embedding-and-word2vec-652d0c2060fa"
      ],
      "metadata": {
        "id": "lsa0CUzLJB-U"
      }
    },
    {
      "cell_type": "code",
      "source": [
        "#Any difference between these two sentences?\n",
        "#Have a good day and Have a great day"
      ],
      "metadata": {
        "id": "opXlOCePBECl"
      },
      "execution_count": 1,
      "outputs": []
    },
    {
      "cell_type": "code",
      "source": [
        "#One hot encoding\n",
        "#one-hot encoded vector for each of these words in V"
      ],
      "metadata": {
        "id": "0yyBj_2MBKgS"
      },
      "execution_count": 2,
      "outputs": []
    },
    {
      "cell_type": "code",
      "source": [
        "#If Length of our one-hot encoded vector = 5\n",
        "#We have: - Have = [1,0,0,0,0]`; a=[0,1,0,0,0]` ; good=[0,0,1,0,0]` ; great=[0,0,0,1,0]` ; day=[0,0,0,0,1]` (` represents transpose)"
      ],
      "metadata": {
        "id": "F3OqqTUaBTx7"
      },
      "execution_count": 3,
      "outputs": []
    },
    {
      "cell_type": "code",
      "source": [
        "#Cosine similarity"
      ],
      "metadata": {
        "id": "dsgnD0K2BeXR"
      },
      "execution_count": 4,
      "outputs": []
    }
  ]
}