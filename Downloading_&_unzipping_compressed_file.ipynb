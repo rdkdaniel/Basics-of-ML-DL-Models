{
  "nbformat": 4,
  "nbformat_minor": 0,
  "metadata": {
    "colab": {
      "provenance": [],
      "authorship_tag": "ABX9TyOavDndJ6yD+0qitH8fw3wS",
      "include_colab_link": true
    },
    "kernelspec": {
      "name": "python3",
      "display_name": "Python 3"
    },
    "language_info": {
      "name": "python"
    }
  },
  "cells": [
    {
      "cell_type": "markdown",
      "metadata": {
        "id": "view-in-github",
        "colab_type": "text"
      },
      "source": [
        "<a href=\"https://colab.research.google.com/github/rdkdaniel/Basics-of-ML-DL-Models/blob/main/Downloading_%26_unzipping_compressed_file.ipynb\" target=\"_parent\"><img src=\"https://colab.research.google.com/assets/colab-badge.svg\" alt=\"Open In Colab\"/></a>"
      ]
    },
    {
      "cell_type": "markdown",
      "source": [
        "Key link: https://buomsoo-kim.github.io/colab/2020/05/04/Colab-downloading-files-from-web-2.md/"
      ],
      "metadata": {
        "id": "tsFgxk96lNQx"
      }
    },
    {
      "cell_type": "code",
      "execution_count": null,
      "metadata": {
        "id": "fT9oQCx2lGf8"
      },
      "outputs": [],
      "source": []
    }
  ]
}